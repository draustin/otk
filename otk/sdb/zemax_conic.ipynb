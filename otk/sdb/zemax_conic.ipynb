{
 "nbformat": 4,
 "nbformat_minor": 2,
 "metadata": {
  "language_info": {
   "name": "python",
   "codemirror_mode": {
    "name": "ipython",
    "version": 3
   },
   "version": "3.7.1-final"
  },
  "orig_nbformat": 2,
  "file_extension": ".py",
  "mimetype": "text/x-python",
  "name": "python",
  "npconvert_exporter": "python",
  "pygments_lexer": "ipython3",
  "version": 3,
  "kernelspec": {
   "name": "python3",
   "display_name": "Python 3"
  }
 },
 "cells": [
  {
   "cell_type": "code",
   "execution_count": 5,
   "metadata": {},
   "outputs": [],
   "source": [
    "import sympy\n",
    "from  sympy import symbols, sqrt\n",
    "sympy.init_printing()"
   ]
  },
  {
   "cell_type": "code",
   "execution_count": 6,
   "metadata": {},
   "outputs": [],
   "source": [
    "rho, kappa, r =  symbols('rho kappa r')"
   ]
  },
  {
   "cell_type": "code",
   "execution_count": 7,
   "metadata": {},
   "outputs": [
    {
     "output_type": "execute_result",
     "data": {
      "text/plain": "             2            \n            ρ             \n──────────────────────────\n  ⎛      ____________    ⎞\n  ⎜     ╱      2         ⎟\n  ⎜    ╱    κ⋅ρ          ⎟\nr⋅⎜   ╱   - ──── + 1  + 1⎟\n  ⎜  ╱        2          ⎟\n  ⎝╲╱        r           ⎠",
      "image/png": "[encoded data removed]",
      "text/latex": "$\\displaystyle \\frac{\\rho^{2}}{r \\left(\\sqrt{- \\frac{\\kappa \\rho^{2}}{r^{2}} + 1} + 1\\right)}$"
     },
     "metadata": {},
     "execution_count": 7
    }
   ],
   "source": [
    "z = rho ** 2/(r*(1 + sqrt(1 - kappa*(rho/r) ** 2)))\n",
    "z"
   ]
  },
  {
   "cell_type": "code",
   "execution_count": 14,
   "metadata": {},
   "outputs": [
    {
     "output_type": "execute_result",
     "data": {
      "text/plain": "     ⎛           ________                   ________       ⎞    \n     ⎜          ╱      2                   ╱      2        ⎟    \n     ⎜   2     ╱      ρ        2    2     ╱      ρ        2⎟    \n   ρ⋅⎜4⋅r ⋅   ╱   1 - ──  + 4⋅r  - ρ ⋅   ╱   1 - ──  - 3⋅ρ ⎟    \n     ⎜       ╱         2                ╱         2        ⎟    \n     ⎝     ╲╱         r               ╲╱         r         ⎠    \n────────────────────────────────────────────────────────────────\n           ________                       ________              \n          ╱      2                       ╱      2              4\n   3     ╱      ρ        3        2     ╱      ρ          2   ρ \n4⋅r ⋅   ╱   1 - ──  + 4⋅r  - 3⋅r⋅ρ ⋅   ╱   1 - ──  - 5⋅r⋅ρ  + ──\n       ╱         2                    ╱         2             r \n     ╲╱         r                   ╲╱         r                ",
      "image/png": "[encoded data removed]",
      "text/latex": "$\\displaystyle \\frac{\\rho \\left(4 r^{2} \\sqrt{1 - \\frac{\\rho^{2}}{r^{2}}} + 4 r^{2} - \\rho^{2} \\sqrt{1 - \\frac{\\rho^{2}}{r^{2}}} - 3 \\rho^{2}\\right)}{4 r^{3} \\sqrt{1 - \\frac{\\rho^{2}}{r^{2}}} + 4 r^{3} - 3 r \\rho^{2} \\sqrt{1 - \\frac{\\rho^{2}}{r^{2}}} - 5 r \\rho^{2} + \\frac{\\rho^{4}}{r}}$"
     },
     "metadata": {},
     "execution_count": 14
    }
   ],
   "source": [
    "z.diff(rho).expand().simplify().subs(kappa, 1)"
   ]
  },
  {
   "cell_type": "code",
   "execution_count": 19,
   "metadata": {},
   "outputs": [
    {
     "output_type": "execute_result",
     "data": {
      "text/plain": "          ____________    \n         ╱      2         \n        ╱    κ⋅ρ          \n- r⋅   ╱   - ──── + 1  + r\n      ╱        2          \n    ╲╱        r           \n──────────────────────────\n            κ             ",
      "image/png": "[encoded data removed]",
      "text/latex": "$\\displaystyle \\frac{- r \\sqrt{- \\frac{\\kappa \\rho^{2}}{r^{2}} + 1} + r}{\\kappa}$"
     },
     "metadata": {},
     "execution_count": 19
    }
   ],
   "source": [
    "zs = z.radsimp()\n",
    "zs"
   ]
  },
  {
   "cell_type": "code",
   "execution_count": 18,
   "metadata": {},
   "outputs": [
    {
     "output_type": "execute_result",
     "data": {
      "text/plain": "         ρ          \n────────────────────\n        ____________\n       ╱      2     \n      ╱    κ⋅ρ      \nr⋅   ╱   - ──── + 1 \n    ╱        2      \n  ╲╱        r       ",
      "image/png": "[encoded data removed]",
      "text/latex": "$\\displaystyle \\frac{\\rho}{r \\sqrt{- \\frac{\\kappa \\rho^{2}}{r^{2}} + 1}}$"
     },
     "metadata": {},
     "execution_count": 18
    }
   ],
   "source": [
    "zs.diff(rho)"
   ]
  }
 ]
}