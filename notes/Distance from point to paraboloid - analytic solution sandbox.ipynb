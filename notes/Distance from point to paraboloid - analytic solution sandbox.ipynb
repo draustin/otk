{
 "cells": [
  {
   "cell_type": "code",
   "execution_count": 1,
   "metadata": {},
   "outputs": [],
   "source": [
    "import numpy as np"
   ]
  },
  {
   "cell_type": "code",
   "execution_count": 40,
   "metadata": {},
   "outputs": [],
   "source": [
    "x0 = 1\n",
    "y0 = 0\n",
    "z0 = 0\n",
    "\n",
    "a = 0.5\n",
    "b = -(z0 + 1)\n",
    "c = (0.5 + 2*z0)\n",
    "d = x0**2 + y0**2 - z0\n",
    "discr = 18*a*b*c*d - 4*b**3*d + b**2*c**2 - 4*a*c**3 - 27*a**2*d**2\n",
    "p = (3*a*c - b**2)/(3*a**2)\n",
    "q = (2*b**3 - 9*a*b*c + 27*a**2*d)/(27*a**3)\n",
    "discr_ = -4*p**3 - 27*q**2\n",
    "assert np.isclose(discr, discr_*a**4)"
   ]
  },
  {
   "cell_type": "code",
   "execution_count": 41,
   "metadata": {},
   "outputs": [
    {
     "data": {
      "text/plain": [
       "(-7.25, -7.249999999999998)"
      ]
     },
     "execution_count": 41,
     "metadata": {},
     "output_type": "execute_result"
    }
   ],
   "source": [
    "discr, discr_*a**4"
   ]
  },
  {
   "cell_type": "code",
   "execution_count": 44,
   "metadata": {},
   "outputs": [
    {
     "name": "stdout",
     "output_type": "stream",
     "text": [
      "-0.6956207695598599 [ 1.34781038+1.02885225j  1.34781038-1.02885225j -0.69562077+0.j        ]\n"
     ]
    }
   ],
   "source": [
    "rd = np.sqrt(q**2/4 + p**3/27)\n",
    "t = np.cbrt(-q/2 + rd) + np.cbrt(-q/2 - rd)\n",
    "lamb = t - b/(3*a)\n",
    "print(lamb, np.roots([a,b,c,d]))"
   ]
  },
  {
   "cell_type": "code",
   "execution_count": null,
   "metadata": {},
   "outputs": [],
   "source": []
  }
 ],
 "metadata": {
  "kernelspec": {
   "display_name": "Python 3",
   "language": "python",
   "name": "python3"
  },
  "language_info": {
   "codemirror_mode": {
    "name": "ipython",
    "version": 3
   },
   "file_extension": ".py",
   "mimetype": "text/x-python",
   "name": "python",
   "nbconvert_exporter": "python",
   "pygments_lexer": "ipython3",
   "version": "3.7.1"
  }
 },
 "nbformat": 4,
 "nbformat_minor": 4
}
