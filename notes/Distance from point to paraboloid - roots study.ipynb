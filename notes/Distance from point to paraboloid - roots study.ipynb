{
 "cells": [
  {
   "cell_type": "code",
   "execution_count": 1,
   "metadata": {},
   "outputs": [],
   "source": [
    "import numpy as np\n",
    "from sympy import symbols, S, simplify, factor\n",
    "\n",
    "x0, y0, z0, lamb = symbols('x0 y0 z0 lamb')\n",
    "\n",
    "a = S(1)/2\n",
    "b = -(z0 + 1)\n",
    "c = (S(1)/2 + 2*z0)\n",
    "d = x0**2 + y0**2 - z0\n",
    "\n",
    "discr = simplify(18*a*b*c*d - 4*b**3*d + b**2*c**2 - 4*a*c**3 - 27*a**2*d**2)"
   ]
  },
  {
   "cell_type": "code",
   "execution_count": 2,
   "metadata": {},
   "outputs": [
    {
     "data": {
      "text/latex": [
       "$\\displaystyle 4 \\left(z_{0} + 1\\right)^{3} \\left(x_{0}^{2} + y_{0}^{2} - z_{0}\\right) + \\frac{\\left(z_{0} + 1\\right)^{2} \\left(4 z_{0} + 1\\right)^{2}}{4} - \\frac{9 \\left(z_{0} + 1\\right) \\left(4 z_{0} + 1\\right) \\left(x_{0}^{2} + y_{0}^{2} - z_{0}\\right)}{2} - \\frac{\\left(4 z_{0} + 1\\right)^{3}}{4} - \\frac{27 \\left(x_{0}^{2} + y_{0}^{2} - z_{0}\\right)^{2}}{4}$"
      ],
      "text/plain": [
       "4*(z0 + 1)**3*(x0**2 + y0**2 - z0) + (z0 + 1)**2*(4*z0 + 1)**2/4 - 9*(z0 + 1)*(4*z0 + 1)*(x0**2 + y0**2 - z0)/2 - (4*z0 + 1)**3/4 - 27*(x0**2 + y0**2 - z0)**2/4"
      ]
     },
     "execution_count": 2,
     "metadata": {},
     "output_type": "execute_result"
    }
   ],
   "source": [
    "discr"
   ]
  },
  {
   "cell_type": "code",
   "execution_count": 3,
   "metadata": {},
   "outputs": [
    {
     "data": {
      "text/latex": [
       "$\\displaystyle - \\frac{\\left(x_{0}^{2} + y_{0}^{2}\\right) \\left(27 x_{0}^{2} + 27 y_{0}^{2} - 16 z_{0}^{3} + 24 z_{0}^{2} - 12 z_{0} + 2\\right)}{4}$"
      ],
      "text/plain": [
       "-(x0**2 + y0**2)*(27*x0**2 + 27*y0**2 - 16*z0**3 + 24*z0**2 - 12*z0 + 2)/4"
      ]
     },
     "execution_count": 3,
     "metadata": {},
     "output_type": "execute_result"
    }
   ],
   "source": [
    "factor(discr)"
   ]
  },
  {
   "cell_type": "code",
   "execution_count": 4,
   "metadata": {},
   "outputs": [
    {
     "data": {
      "text/latex": [
       "$\\displaystyle \\frac{67915}{4}$"
      ],
      "text/plain": [
       "67915/4"
      ]
     },
     "execution_count": 4,
     "metadata": {},
     "output_type": "execute_result"
    }
   ],
   "source": [
    "discr.subs([(x0, 1), (y0, 2), (z0, 10)])"
   ]
  },
  {
   "cell_type": "code",
   "execution_count": 5,
   "metadata": {},
   "outputs": [
    {
     "name": "stderr",
     "output_type": "stream",
     "text": [
      "/Users/daneaustin/miniconda3/envs/fathom/lib/python3.7/site-packages/ipykernel_launcher.py:7: RuntimeWarning: invalid value encountered in true_divide\n",
      "  import sys\n",
      "/Users/daneaustin/miniconda3/envs/fathom/lib/python3.7/site-packages/ipykernel_launcher.py:8: RuntimeWarning: invalid value encountered in true_divide\n",
      "  \n"
     ]
    }
   ],
   "source": [
    "x0s = 0\n",
    "y0s = 0\n",
    "z0s = 0\n",
    "subs_list = [(x0, x0s), (y0, y0s), (z0, z0s)]\n",
    "poly = [float(expr.subs(subs_list)) for expr in (a,b,c,d)]\n",
    "lamb = np.roots(poly)\n",
    "x = x0s/(1 - lamb)\n",
    "y = y0s/(1 - lamb)\n",
    "z = z0s - lamb/2\n",
    "f = (x - x0s)**2 + (y - y0s)**2 + (z - z0s)**2\n",
    "g = x**2 + y**2 - z"
   ]
  },
  {
   "cell_type": "code",
   "execution_count": 6,
   "metadata": {},
   "outputs": [
    {
     "data": {
      "text/plain": [
       "(array([1., 1., 0.]), array([nan, nan,  0.]), 0.0)"
      ]
     },
     "execution_count": 6,
     "metadata": {},
     "output_type": "execute_result"
    }
   ],
   "source": [
    "lamb, f, float(discr.subs(subs_list))"
   ]
  }
 ],
 "metadata": {
  "kernelspec": {
   "display_name": "Python 3",
   "language": "python",
   "name": "python3"
  },
  "language_info": {
   "codemirror_mode": {
    "name": "ipython",
    "version": 3
   },
   "file_extension": ".py",
   "mimetype": "text/x-python",
   "name": "python",
   "nbconvert_exporter": "python",
   "pygments_lexer": "ipython3",
   "version": "3.7.1"
  }
 },
 "nbformat": 4,
 "nbformat_minor": 4
}
